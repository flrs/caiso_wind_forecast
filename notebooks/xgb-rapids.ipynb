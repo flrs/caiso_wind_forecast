{
 "cells": [
  {
   "cell_type": "markdown",
   "metadata": {},
   "source": [
    "# Random forest classification\n",
    "\n",
    "## RAPIDS single GPU\n",
    "\n",
    "<img src=\"https://rapids.ai/assets/images/RAPIDS-logo-purple.svg\" width=\"400\">"
   ]
  },
  {
   "cell_type": "code",
   "execution_count": 80,
   "metadata": {},
   "outputs": [],
   "source": [
    "import os"
   ]
  },
  {
   "cell_type": "markdown",
   "metadata": {},
   "source": [
    "# Load data and feature engineering\n",
    "\n",
    "Load a full month for this exercise. Note we are loading the data with RAPIDS now (`cudf.read_csv` vs. `pd.read_csv`)"
   ]
  },
  {
   "cell_type": "code",
   "execution_count": 81,
   "metadata": {},
   "outputs": [
    {
     "name": "stdout",
     "output_type": "stream",
     "text": [
      "Sat Dec 19 06:03:47 2020       \n",
      "+-----------------------------------------------------------------------------+\n",
      "| NVIDIA-SMI 450.51.06    Driver Version: 450.51.06    CUDA Version: 11.0     |\n",
      "|-------------------------------+----------------------+----------------------+\n",
      "| GPU  Name        Persistence-M| Bus-Id        Disp.A | Volatile Uncorr. ECC |\n",
      "| Fan  Temp  Perf  Pwr:Usage/Cap|         Memory-Usage | GPU-Util  Compute M. |\n",
      "|                               |                      |               MIG M. |\n",
      "|===============================+======================+======================|\n",
      "|   0  Tesla T4            Off  | 00000000:00:1E.0 Off |                    0 |\n",
      "| N/A   31C    P0    26W /  70W |   3140MiB / 15109MiB |      0%      Default |\n",
      "|                               |                      |                  N/A |\n",
      "+-------------------------------+----------------------+----------------------+\n",
      "                                                                               \n",
      "+-----------------------------------------------------------------------------+\n",
      "| Processes:                                                                  |\n",
      "|  GPU   GI   CI        PID   Type   Process name                  GPU Memory |\n",
      "|        ID   ID                                                   Usage      |\n",
      "|=============================================================================|\n",
      "+-----------------------------------------------------------------------------+\n"
     ]
    }
   ],
   "source": [
    "!nvidia-smi"
   ]
  },
  {
   "cell_type": "code",
   "execution_count": 82,
   "metadata": {},
   "outputs": [
    {
     "name": "stdout",
     "output_type": "stream",
     "text": [
      "nvcc: NVIDIA (R) Cuda compiler driver\n",
      "Copyright (c) 2005-2019 NVIDIA Corporation\n",
      "Built on Sun_Jul_28_19:07:16_PDT_2019\n",
      "Cuda compilation tools, release 10.1, V10.1.243\n"
     ]
    }
   ],
   "source": [
    "!nvcc --version"
   ]
  },
  {
   "cell_type": "code",
   "execution_count": 83,
   "metadata": {},
   "outputs": [],
   "source": [
    "import cudf\n",
    "import s3fs\n",
    "import xgboost as xgb\n",
    "\n",
    "s3 = s3fs.S3FileSystem(anon=True)\n",
    "\n",
    "data = cudf.read_csv(\n",
    "    s3.open( 's3://kjkasjdk2934872398ojljosudfsu8fuj23/data_rev8.csv', mode='rb')\n",
    ")"
   ]
  },
  {
   "cell_type": "code",
   "execution_count": 84,
   "metadata": {},
   "outputs": [
    {
     "name": "stdout",
     "output_type": "stream",
     "text": [
      "Num rows: 200000, Size: 305.688903 MB\n"
     ]
    }
   ],
   "source": [
    "print(f'Num rows: {len(data)}, Size: {data.memory_usage(deep=True).sum() / 1e6} MB')"
   ]
  },
  {
   "cell_type": "code",
   "execution_count": 85,
   "metadata": {},
   "outputs": [
    {
     "data": {
      "text/plain": [
       "(200000, 189)"
      ]
     },
     "execution_count": 85,
     "metadata": {},
     "output_type": "execute_result"
    }
   ],
   "source": [
    "data.shape"
   ]
  },
  {
   "cell_type": "code",
   "execution_count": 86,
   "metadata": {},
   "outputs": [],
   "source": [
    "data = data.drop(columns=['Unnamed: 0', 'Time'])\n",
    "data = data.astype('float32')"
   ]
  },
  {
   "cell_type": "code",
   "execution_count": 87,
   "metadata": {},
   "outputs": [],
   "source": [
    "features = list(data.columns[1:])\n",
    "target = data.columns[0]"
   ]
  },
  {
   "cell_type": "code",
   "execution_count": 116,
   "metadata": {},
   "outputs": [
    {
     "data": {
      "text/plain": [
       "186"
      ]
     },
     "execution_count": 116,
     "metadata": {},
     "output_type": "execute_result"
    }
   ],
   "source": [
    "len(features)"
   ]
  },
  {
   "cell_type": "markdown",
   "metadata": {},
   "source": [
    "# Train model"
   ]
  },
  {
   "cell_type": "code",
   "execution_count": 88,
   "metadata": {},
   "outputs": [
    {
     "name": "stdout",
     "output_type": "stream",
     "text": [
      "Requirement already satisfied: pyDOE in /srv/conda/envs/saturn/lib/python3.7/site-packages (0.3.8)\n",
      "Requirement already satisfied: numpy in /srv/conda/envs/saturn/lib/python3.7/site-packages (from pyDOE) (1.19.2)\n",
      "Requirement already satisfied: scipy in /srv/conda/envs/saturn/lib/python3.7/site-packages (from pyDOE) (1.5.2)\n",
      "Note: you may need to restart the kernel to use updated packages.\n"
     ]
    }
   ],
   "source": [
    "%pip install pyDOE"
   ]
  },
  {
   "cell_type": "code",
   "execution_count": 255,
   "metadata": {},
   "outputs": [],
   "source": [
    "name = 10\n",
    "\n",
    "n_samples = 20\n",
    "tree_depth = [3,3]\n",
    "sample_size = [0.676590, 0.676590]\n",
    "mtry = [88, 88]\n",
    "learn_rate = [0.001, 0.1]\n",
    "trees = 1000\n",
    "stop_iter = 20"
   ]
  },
  {
   "cell_type": "code",
   "execution_count": 256,
   "metadata": {},
   "outputs": [],
   "source": [
    "from pyDOE import lhs\n",
    "import numpy as np\n",
    "np.random.seed(42)\n",
    "\n",
    "lhd = lhs(4, samples=n_samples)"
   ]
  },
  {
   "cell_type": "code",
   "execution_count": 257,
   "metadata": {},
   "outputs": [
    {
     "data": {
      "text/html": [
       "<div>\n",
       "<style scoped>\n",
       "    .dataframe tbody tr th:only-of-type {\n",
       "        vertical-align: middle;\n",
       "    }\n",
       "\n",
       "    .dataframe tbody tr th {\n",
       "        vertical-align: top;\n",
       "    }\n",
       "\n",
       "    .dataframe thead th {\n",
       "        text-align: right;\n",
       "    }\n",
       "</style>\n",
       "<table border=\"1\" class=\"dataframe\">\n",
       "  <thead>\n",
       "    <tr style=\"text-align: right;\">\n",
       "      <th></th>\n",
       "      <th>tree_depth</th>\n",
       "      <th>sample_size</th>\n",
       "      <th>mtry</th>\n",
       "      <th>learn_rate</th>\n",
       "    </tr>\n",
       "  </thead>\n",
       "  <tbody>\n",
       "    <tr>\n",
       "      <th>0</th>\n",
       "      <td>3</td>\n",
       "      <td>0.67659</td>\n",
       "      <td>88</td>\n",
       "      <td>0.022242</td>\n",
       "    </tr>\n",
       "    <tr>\n",
       "      <th>1</th>\n",
       "      <td>3</td>\n",
       "      <td>0.67659</td>\n",
       "      <td>88</td>\n",
       "      <td>0.047729</td>\n",
       "    </tr>\n",
       "    <tr>\n",
       "      <th>2</th>\n",
       "      <td>3</td>\n",
       "      <td>0.67659</td>\n",
       "      <td>88</td>\n",
       "      <td>0.010238</td>\n",
       "    </tr>\n",
       "    <tr>\n",
       "      <th>3</th>\n",
       "      <td>3</td>\n",
       "      <td>0.67659</td>\n",
       "      <td>88</td>\n",
       "      <td>0.077016</td>\n",
       "    </tr>\n",
       "    <tr>\n",
       "      <th>4</th>\n",
       "      <td>3</td>\n",
       "      <td>0.67659</td>\n",
       "      <td>88</td>\n",
       "      <td>0.036494</td>\n",
       "    </tr>\n",
       "  </tbody>\n",
       "</table>\n",
       "</div>"
      ],
      "text/plain": [
       "   tree_depth  sample_size  mtry  learn_rate\n",
       "0           3      0.67659    88    0.022242\n",
       "1           3      0.67659    88    0.047729\n",
       "2           3      0.67659    88    0.010238\n",
       "3           3      0.67659    88    0.077016\n",
       "4           3      0.67659    88    0.036494"
      ]
     },
     "execution_count": 257,
     "metadata": {},
     "output_type": "execute_result"
    }
   ],
   "source": [
    "import pandas as pd\n",
    "\n",
    "def scale_param(x, limits):\n",
    "    range_ = limits[1]-limits[0]\n",
    "    res = x*range_+min(limits)\n",
    "    return res\n",
    "\n",
    "samples = pd.DataFrame({\n",
    "    'tree_depth': np.round(scale_param(lhd[:,0], tree_depth),0).astype(int).tolist(),\n",
    "    'sample_size': scale_param(lhd[:,1], sample_size).tolist(),\n",
    "    'mtry': np.round(scale_param(lhd[:,2], mtry),0).astype(int).tolist(),\n",
    "    'learn_rate': scale_param(lhd[:,3], learn_rate).tolist()\n",
    "    })\n",
    "samples.head()"
   ]
  },
  {
   "cell_type": "code",
   "execution_count": 258,
   "metadata": {},
   "outputs": [],
   "source": [
    "from tqdm.auto import tqdm\n",
    "from cuml.metrics.regression import mean_absolute_error, mean_squared_error, r2_score"
   ]
  },
  {
   "cell_type": "code",
   "execution_count": 259,
   "metadata": {},
   "outputs": [
    {
     "data": {
      "application/vnd.jupyter.widget-view+json": {
       "model_id": "2ff615fb13af41b6ac351cd980b37859",
       "version_major": 2,
       "version_minor": 0
      },
      "text/plain": [
       "HBox(children=(HTML(value=''), FloatProgress(value=0.0, max=4.0), HTML(value='')))"
      ]
     },
     "metadata": {},
     "output_type": "display_data"
    },
    {
     "name": "stdout",
     "output_type": "stream",
     "text": [
      "\n"
     ]
    }
   ],
   "source": [
    "fold_train = []\n",
    "fold_test = []\n",
    "fold_test_np = []\n",
    "\n",
    "n_folds = 4\n",
    "folds_cumul = True\n",
    "\n",
    "if n_folds == 4 and not folds_cumul:\n",
    "    for fold in tqdm(range(4), total=4):\n",
    "        fold_train_start = fold*40000\n",
    "        fold_train_end = (fold+1)*40000\n",
    "        fold_test_end = (fold+1)*50000\n",
    "\n",
    "        train_data_x = data[features].iloc[fold_train_start:fold_train_end]\n",
    "        train_data_y = data[target].iloc[fold_train_start:fold_train_end]\n",
    "\n",
    "        test_data_x = data[features].iloc[fold_train_end:fold_test_end]\n",
    "        test_data_y = data[target].iloc[fold_train_end:fold_test_end]\n",
    "\n",
    "        fold_train.append(xgb.DMatrix(train_data_x, label=train_data_y))\n",
    "        fold_test.append(xgb.DMatrix(test_data_x, label=test_data_y))\n",
    "        fold_test_np.append(test_data_y)\n",
    "        \n",
    "if n_folds == 4 and folds_cumul:\n",
    "    for fold in tqdm(range(4), total=4):\n",
    "        fold_train_start = 0\n",
    "        fold_train_end = 180000+(fold)*3000\n",
    "        fold_test_end = fold_train_end+2016\n",
    "\n",
    "        train_data_x = data[features].iloc[fold_train_start:fold_train_end]\n",
    "        train_data_y = data[target].iloc[fold_train_start:fold_train_end]\n",
    "\n",
    "        test_data_x = data[features].iloc[fold_train_end:fold_test_end]\n",
    "        test_data_y = data[target].iloc[fold_train_end:fold_test_end]\n",
    "\n",
    "        fold_train.append(xgb.DMatrix(train_data_x, label=train_data_y))\n",
    "        fold_test.append(xgb.DMatrix(test_data_x, label=test_data_y))\n",
    "        fold_test_np.append(test_data_y)"
   ]
  },
  {
   "cell_type": "code",
   "execution_count": 260,
   "metadata": {},
   "outputs": [
    {
     "data": {
      "application/vnd.jupyter.widget-view+json": {
       "model_id": "31613071143f47a29e6aaca3d63664b2",
       "version_major": 2,
       "version_minor": 0
      },
      "text/plain": [
       "HBox(children=(HTML(value=''), FloatProgress(value=0.0, max=20.0), HTML(value='')))"
      ]
     },
     "metadata": {},
     "output_type": "display_data"
    },
    {
     "data": {
      "application/vnd.jupyter.widget-view+json": {
       "model_id": "",
       "version_major": 2,
       "version_minor": 0
      },
      "text/plain": [
       "HBox(children=(HTML(value=''), FloatProgress(value=0.0, max=4.0), HTML(value='')))"
      ]
     },
     "metadata": {},
     "output_type": "display_data"
    },
    {
     "name": "stdout",
     "output_type": "stream",
     "text": [
      "tree_depth:3 sample_size:0.67659 mtry:88 learn_rate:0.02224158424398031 mae:441.66361236572266\n"
     ]
    },
    {
     "data": {
      "application/vnd.jupyter.widget-view+json": {
       "model_id": "",
       "version_major": 2,
       "version_minor": 0
      },
      "text/plain": [
       "HBox(children=(HTML(value=''), FloatProgress(value=0.0, max=4.0), HTML(value='')))"
      ]
     },
     "metadata": {},
     "output_type": "display_data"
    },
    {
     "name": "stdout",
     "output_type": "stream",
     "text": [
      "tree_depth:3 sample_size:0.67659 mtry:88 learn_rate:0.04772875484401103 mae:441.30260467529297\n"
     ]
    },
    {
     "data": {
      "application/vnd.jupyter.widget-view+json": {
       "model_id": "",
       "version_major": 2,
       "version_minor": 0
      },
      "text/plain": [
       "HBox(children=(HTML(value=''), FloatProgress(value=0.0, max=4.0), HTML(value='')))"
      ]
     },
     "metadata": {},
     "output_type": "display_data"
    },
    {
     "name": "stdout",
     "output_type": "stream",
     "text": [
      "tree_depth:3 sample_size:0.67659 mtry:88 learn_rate:0.01023757192158593 mae:462.97704315185547\n"
     ]
    },
    {
     "data": {
      "application/vnd.jupyter.widget-view+json": {
       "model_id": "",
       "version_major": 2,
       "version_minor": 0
      },
      "text/plain": [
       "HBox(children=(HTML(value=''), FloatProgress(value=0.0, max=4.0), HTML(value='')))"
      ]
     },
     "metadata": {},
     "output_type": "display_data"
    },
    {
     "name": "stdout",
     "output_type": "stream",
     "text": [
      "tree_depth:3 sample_size:0.67659 mtry:88 learn_rate:0.07701592896713327 mae:439.7607650756836\n"
     ]
    },
    {
     "data": {
      "application/vnd.jupyter.widget-view+json": {
       "model_id": "",
       "version_major": 2,
       "version_minor": 0
      },
      "text/plain": [
       "HBox(children=(HTML(value=''), FloatProgress(value=0.0, max=4.0), HTML(value='')))"
      ]
     },
     "metadata": {},
     "output_type": "display_data"
    },
    {
     "name": "stdout",
     "output_type": "stream",
     "text": [
      "tree_depth:3 sample_size:0.67659 mtry:88 learn_rate:0.0364940944122521 mae:438.7006149291992\n"
     ]
    },
    {
     "data": {
      "application/vnd.jupyter.widget-view+json": {
       "model_id": "",
       "version_major": 2,
       "version_minor": 0
      },
      "text/plain": [
       "HBox(children=(HTML(value=''), FloatProgress(value=0.0, max=4.0), HTML(value='')))"
      ]
     },
     "metadata": {},
     "output_type": "display_data"
    },
    {
     "name": "stdout",
     "output_type": "stream",
     "text": [
      "tree_depth:3 sample_size:0.67659 mtry:88 learn_rate:0.027563491124303778 mae:439.3434143066406\n"
     ]
    },
    {
     "data": {
      "application/vnd.jupyter.widget-view+json": {
       "model_id": "",
       "version_major": 2,
       "version_minor": 0
      },
      "text/plain": [
       "HBox(children=(HTML(value=''), FloatProgress(value=0.0, max=4.0), HTML(value='')))"
      ]
     },
     "metadata": {},
     "output_type": "display_data"
    },
    {
     "name": "stdout",
     "output_type": "stream",
     "text": [
      "tree_depth:3 sample_size:0.67659 mtry:88 learn_rate:0.0841708750547325 mae:445.70863342285156\n"
     ]
    },
    {
     "data": {
      "application/vnd.jupyter.widget-view+json": {
       "model_id": "",
       "version_major": 2,
       "version_minor": 0
      },
      "text/plain": [
       "HBox(children=(HTML(value=''), FloatProgress(value=0.0, max=4.0), HTML(value='')))"
      ]
     },
     "metadata": {},
     "output_type": "display_data"
    },
    {
     "name": "stdout",
     "output_type": "stream",
     "text": [
      "tree_depth:3 sample_size:0.67659 mtry:88 learn_rate:0.015701053768201877 mae:440.1063461303711\n"
     ]
    },
    {
     "data": {
      "application/vnd.jupyter.widget-view+json": {
       "model_id": "",
       "version_major": 2,
       "version_minor": 0
      },
      "text/plain": [
       "HBox(children=(HTML(value=''), FloatProgress(value=0.0, max=4.0), HTML(value='')))"
      ]
     },
     "metadata": {},
     "output_type": "display_data"
    },
    {
     "name": "stdout",
     "output_type": "stream",
     "text": [
      "tree_depth:3 sample_size:0.67659 mtry:88 learn_rate:0.0937085854818029 mae:443.08524322509766\n"
     ]
    },
    {
     "data": {
      "application/vnd.jupyter.widget-view+json": {
       "model_id": "",
       "version_major": 2,
       "version_minor": 0
      },
      "text/plain": [
       "HBox(children=(HTML(value=''), FloatProgress(value=0.0, max=4.0), HTML(value='')))"
      ]
     },
     "metadata": {},
     "output_type": "display_data"
    },
    {
     "name": "stdout",
     "output_type": "stream",
     "text": [
      "tree_depth:3 sample_size:0.67659 mtry:88 learn_rate:0.0167578523237745 mae:439.3824157714844\n"
     ]
    },
    {
     "data": {
      "application/vnd.jupyter.widget-view+json": {
       "model_id": "",
       "version_major": 2,
       "version_minor": 0
      },
      "text/plain": [
       "HBox(children=(HTML(value=''), FloatProgress(value=0.0, max=4.0), HTML(value='')))"
      ]
     },
     "metadata": {},
     "output_type": "display_data"
    },
    {
     "name": "stdout",
     "output_type": "stream",
     "text": [
      "tree_depth:3 sample_size:0.67659 mtry:88 learn_rate:0.06423690747563753 mae:442.9193572998047\n"
     ]
    },
    {
     "data": {
      "application/vnd.jupyter.widget-view+json": {
       "model_id": "",
       "version_major": 2,
       "version_minor": 0
      },
      "text/plain": [
       "HBox(children=(HTML(value=''), FloatProgress(value=0.0, max=4.0), HTML(value='')))"
      ]
     },
     "metadata": {},
     "output_type": "display_data"
    },
    {
     "name": "stdout",
     "output_type": "stream",
     "text": [
      "tree_depth:3 sample_size:0.67659 mtry:88 learn_rate:0.08613364262359416 mae:437.32708740234375\n"
     ]
    },
    {
     "data": {
      "application/vnd.jupyter.widget-view+json": {
       "model_id": "",
       "version_major": 2,
       "version_minor": 0
      },
      "text/plain": [
       "HBox(children=(HTML(value=''), FloatProgress(value=0.0, max=4.0), HTML(value='')))"
      ]
     },
     "metadata": {},
     "output_type": "display_data"
    },
    {
     "name": "stdout",
     "output_type": "stream",
     "text": [
      "tree_depth:3 sample_size:0.67659 mtry:88 learn_rate:0.044601566873176485 mae:437.3394012451172\n"
     ]
    },
    {
     "data": {
      "application/vnd.jupyter.widget-view+json": {
       "model_id": "",
       "version_major": 2,
       "version_minor": 0
      },
      "text/plain": [
       "HBox(children=(HTML(value=''), FloatProgress(value=0.0, max=4.0), HTML(value='')))"
      ]
     },
     "metadata": {},
     "output_type": "display_data"
    },
    {
     "name": "stdout",
     "output_type": "stream",
     "text": [
      "tree_depth:3 sample_size:0.67659 mtry:88 learn_rate:0.07191038513727817 mae:440.0998306274414\n"
     ]
    },
    {
     "data": {
      "application/vnd.jupyter.widget-view+json": {
       "model_id": "",
       "version_major": 2,
       "version_minor": 0
      },
      "text/plain": [
       "HBox(children=(HTML(value=''), FloatProgress(value=0.0, max=4.0), HTML(value='')))"
      ]
     },
     "metadata": {},
     "output_type": "display_data"
    },
    {
     "name": "stdout",
     "output_type": "stream",
     "text": [
      "tree_depth:3 sample_size:0.67659 mtry:88 learn_rate:0.0039633594967753314 mae:514.4419250488281\n"
     ]
    },
    {
     "data": {
      "application/vnd.jupyter.widget-view+json": {
       "model_id": "",
       "version_major": 2,
       "version_minor": 0
      },
      "text/plain": [
       "HBox(children=(HTML(value=''), FloatProgress(value=0.0, max=4.0), HTML(value='')))"
      ]
     },
     "metadata": {},
     "output_type": "display_data"
    },
    {
     "name": "stdout",
     "output_type": "stream",
     "text": [
      "tree_depth:3 sample_size:0.67659 mtry:88 learn_rate:0.06991327746336444 mae:435.7637405395508\n"
     ]
    },
    {
     "data": {
      "application/vnd.jupyter.widget-view+json": {
       "model_id": "",
       "version_major": 2,
       "version_minor": 0
      },
      "text/plain": [
       "HBox(children=(HTML(value=''), FloatProgress(value=0.0, max=4.0), HTML(value='')))"
      ]
     },
     "metadata": {},
     "output_type": "display_data"
    },
    {
     "name": "stdout",
     "output_type": "stream",
     "text": [
      "tree_depth:3 sample_size:0.67659 mtry:88 learn_rate:0.033245460470147384 mae:444.22240447998047\n"
     ]
    },
    {
     "data": {
      "application/vnd.jupyter.widget-view+json": {
       "model_id": "",
       "version_major": 2,
       "version_minor": 0
      },
      "text/plain": [
       "HBox(children=(HTML(value=''), FloatProgress(value=0.0, max=4.0), HTML(value='')))"
      ]
     },
     "metadata": {},
     "output_type": "display_data"
    },
    {
     "name": "stdout",
     "output_type": "stream",
     "text": [
      "tree_depth:3 sample_size:0.67659 mtry:88 learn_rate:0.05500113599028998 mae:445.11375427246094\n"
     ]
    },
    {
     "data": {
      "application/vnd.jupyter.widget-view+json": {
       "model_id": "",
       "version_major": 2,
       "version_minor": 0
      },
      "text/plain": [
       "HBox(children=(HTML(value=''), FloatProgress(value=0.0, max=4.0), HTML(value='')))"
      ]
     },
     "metadata": {},
     "output_type": "display_data"
    },
    {
     "name": "stdout",
     "output_type": "stream",
     "text": [
      "tree_depth:3 sample_size:0.67659 mtry:88 learn_rate:0.0956235518446494 mae:435.43924713134766\n"
     ]
    },
    {
     "data": {
      "application/vnd.jupyter.widget-view+json": {
       "model_id": "",
       "version_major": 2,
       "version_minor": 0
      },
      "text/plain": [
       "HBox(children=(HTML(value=''), FloatProgress(value=0.0, max=4.0), HTML(value='')))"
      ]
     },
     "metadata": {},
     "output_type": "display_data"
    },
    {
     "name": "stdout",
     "output_type": "stream",
     "text": [
      "tree_depth:3 sample_size:0.67659 mtry:88 learn_rate:0.05802433670483017 mae:446.2521057128906\n",
      "\n"
     ]
    }
   ],
   "source": [
    "res = []\n",
    "\n",
    "for sample in tqdm(list(samples.index), total=samples.shape[0]):\n",
    "    this_res = {}\n",
    "\n",
    "    this_res['tree_depth'] = samples.loc[sample, 'tree_depth']\n",
    "    this_res['sample_size'] = samples.loc[sample, 'sample_size']\n",
    "    this_res['mtry'] = samples.loc[sample, 'mtry']\n",
    "    this_res['learn_rate'] = samples.loc[sample, 'learn_rate']\n",
    "    this_res['res'] = {'folds': []}\n",
    "    for fold in tqdm(range(4), total=4, leave=False):\n",
    "        this_fold = {}\n",
    "    \n",
    "        params = {\n",
    "            'verbosity': 0,\n",
    "            'tree_method': 'gpu_hist',\n",
    "            'n_gpus': 1,\n",
    "            'eval_metric': 'mae',\n",
    "                'max_depth': samples.loc[sample, 'tree_depth'],\n",
    "                'subsample': samples.loc[sample, 'sample_size'],\n",
    "                'colsample_bytree': samples.loc[sample, 'mtry']/len(features),\n",
    "                'eta': samples.loc[sample, 'learn_rate']\n",
    "        }\n",
    "    \n",
    "        evallist = [(fold_train[fold], 'train'),(fold_test[fold], 'validation')]\n",
    "        num_round = 1000\n",
    "        \n",
    "        model = xgb.train(params, fold_train[fold], num_round, evals=evallist, early_stopping_rounds=stop_iter, verbose_eval=False)\n",
    "\n",
    "        preds = model.predict(fold_test[fold])\n",
    "        orig = fold_test_np[fold]\n",
    "        \n",
    "        this_fold['mae'] = float(mean_absolute_error(orig, preds))\n",
    "        this_fold['rmse'] = float(mean_squared_error(orig, preds, squared=False))\n",
    "        this_fold['r2'] = r2_score(orig, preds)\n",
    "        this_fold['best_iter'] = model.best_iteration\n",
    "        this_res['res']['folds'].append(this_fold)\n",
    "    this_res['res']['mae'] = np.mean([x['mae'] for x in this_res['res']['folds']])\n",
    "    this_res['res']['rmse'] = np.mean([x['rmse'] for x in this_res['res']['folds']])\n",
    "    this_res['res']['r2'] = np.mean([x['r2'] for x in this_res['res']['folds']])\n",
    "    print(\"tree_depth:{} sample_size:{} mtry:{} learn_rate:{} mae:{}\".format(\n",
    "    this_res['tree_depth'],this_res['sample_size'],this_res['mtry'],this_res['learn_rate'],this_res['res']['mae']))\n",
    "    res.append(this_res)"
   ]
  },
  {
   "cell_type": "code",
   "execution_count": 261,
   "metadata": {},
   "outputs": [],
   "source": [
    "rdf = pd.DataFrame({'tree_depth': [r['tree_depth'] for r in res],\n",
    " 'sample_size': [r['sample_size'] for r in res],\n",
    " 'mtry': [r['mtry'] for r in res],\n",
    "                    'learn_rate': [r['learn_rate'] for r in res],\n",
    " 'mae': [r['res']['mae'] for r in res],\n",
    "                    'rmse': [r['res']['rmse'] for r in res],\n",
    "                   'r2': [r['res']['r2'] for r in res]})"
   ]
  },
  {
   "cell_type": "code",
   "execution_count": 262,
   "metadata": {},
   "outputs": [
    {
     "data": {
      "text/html": [
       "<div>\n",
       "<style scoped>\n",
       "    .dataframe tbody tr th:only-of-type {\n",
       "        vertical-align: middle;\n",
       "    }\n",
       "\n",
       "    .dataframe tbody tr th {\n",
       "        vertical-align: top;\n",
       "    }\n",
       "\n",
       "    .dataframe thead th {\n",
       "        text-align: right;\n",
       "    }\n",
       "</style>\n",
       "<table border=\"1\" class=\"dataframe\">\n",
       "  <thead>\n",
       "    <tr style=\"text-align: right;\">\n",
       "      <th></th>\n",
       "      <th>tree_depth</th>\n",
       "      <th>sample_size</th>\n",
       "      <th>mtry</th>\n",
       "      <th>learn_rate</th>\n",
       "      <th>mae</th>\n",
       "      <th>rmse</th>\n",
       "      <th>r2</th>\n",
       "    </tr>\n",
       "  </thead>\n",
       "  <tbody>\n",
       "    <tr>\n",
       "      <th>18</th>\n",
       "      <td>3</td>\n",
       "      <td>0.67659</td>\n",
       "      <td>88</td>\n",
       "      <td>0.095624</td>\n",
       "      <td>435.439247</td>\n",
       "      <td>542.410568</td>\n",
       "      <td>0.774539</td>\n",
       "    </tr>\n",
       "    <tr>\n",
       "      <th>15</th>\n",
       "      <td>3</td>\n",
       "      <td>0.67659</td>\n",
       "      <td>88</td>\n",
       "      <td>0.069913</td>\n",
       "      <td>435.763741</td>\n",
       "      <td>544.581924</td>\n",
       "      <td>0.774071</td>\n",
       "    </tr>\n",
       "    <tr>\n",
       "      <th>11</th>\n",
       "      <td>3</td>\n",
       "      <td>0.67659</td>\n",
       "      <td>88</td>\n",
       "      <td>0.086134</td>\n",
       "      <td>437.327087</td>\n",
       "      <td>548.161522</td>\n",
       "      <td>0.769257</td>\n",
       "    </tr>\n",
       "    <tr>\n",
       "      <th>12</th>\n",
       "      <td>3</td>\n",
       "      <td>0.67659</td>\n",
       "      <td>88</td>\n",
       "      <td>0.044602</td>\n",
       "      <td>437.339401</td>\n",
       "      <td>546.516083</td>\n",
       "      <td>0.772622</td>\n",
       "    </tr>\n",
       "    <tr>\n",
       "      <th>4</th>\n",
       "      <td>3</td>\n",
       "      <td>0.67659</td>\n",
       "      <td>88</td>\n",
       "      <td>0.036494</td>\n",
       "      <td>438.700615</td>\n",
       "      <td>550.042770</td>\n",
       "      <td>0.768856</td>\n",
       "    </tr>\n",
       "    <tr>\n",
       "      <th>5</th>\n",
       "      <td>3</td>\n",
       "      <td>0.67659</td>\n",
       "      <td>88</td>\n",
       "      <td>0.027563</td>\n",
       "      <td>439.343414</td>\n",
       "      <td>549.754379</td>\n",
       "      <td>0.769588</td>\n",
       "    </tr>\n",
       "    <tr>\n",
       "      <th>9</th>\n",
       "      <td>3</td>\n",
       "      <td>0.67659</td>\n",
       "      <td>88</td>\n",
       "      <td>0.016758</td>\n",
       "      <td>439.382416</td>\n",
       "      <td>550.493881</td>\n",
       "      <td>0.768382</td>\n",
       "    </tr>\n",
       "    <tr>\n",
       "      <th>3</th>\n",
       "      <td>3</td>\n",
       "      <td>0.67659</td>\n",
       "      <td>88</td>\n",
       "      <td>0.077016</td>\n",
       "      <td>439.760765</td>\n",
       "      <td>548.642090</td>\n",
       "      <td>0.771104</td>\n",
       "    </tr>\n",
       "    <tr>\n",
       "      <th>13</th>\n",
       "      <td>3</td>\n",
       "      <td>0.67659</td>\n",
       "      <td>88</td>\n",
       "      <td>0.071910</td>\n",
       "      <td>440.099831</td>\n",
       "      <td>549.166458</td>\n",
       "      <td>0.769850</td>\n",
       "    </tr>\n",
       "    <tr>\n",
       "      <th>7</th>\n",
       "      <td>3</td>\n",
       "      <td>0.67659</td>\n",
       "      <td>88</td>\n",
       "      <td>0.015701</td>\n",
       "      <td>440.106346</td>\n",
       "      <td>551.610931</td>\n",
       "      <td>0.767999</td>\n",
       "    </tr>\n",
       "    <tr>\n",
       "      <th>1</th>\n",
       "      <td>3</td>\n",
       "      <td>0.67659</td>\n",
       "      <td>88</td>\n",
       "      <td>0.047729</td>\n",
       "      <td>441.302605</td>\n",
       "      <td>551.096771</td>\n",
       "      <td>0.769624</td>\n",
       "    </tr>\n",
       "    <tr>\n",
       "      <th>0</th>\n",
       "      <td>3</td>\n",
       "      <td>0.67659</td>\n",
       "      <td>88</td>\n",
       "      <td>0.022242</td>\n",
       "      <td>441.663612</td>\n",
       "      <td>552.944763</td>\n",
       "      <td>0.768112</td>\n",
       "    </tr>\n",
       "    <tr>\n",
       "      <th>10</th>\n",
       "      <td>3</td>\n",
       "      <td>0.67659</td>\n",
       "      <td>88</td>\n",
       "      <td>0.064237</td>\n",
       "      <td>442.919357</td>\n",
       "      <td>553.059235</td>\n",
       "      <td>0.768235</td>\n",
       "    </tr>\n",
       "    <tr>\n",
       "      <th>8</th>\n",
       "      <td>3</td>\n",
       "      <td>0.67659</td>\n",
       "      <td>88</td>\n",
       "      <td>0.093709</td>\n",
       "      <td>443.085243</td>\n",
       "      <td>554.896820</td>\n",
       "      <td>0.764482</td>\n",
       "    </tr>\n",
       "    <tr>\n",
       "      <th>16</th>\n",
       "      <td>3</td>\n",
       "      <td>0.67659</td>\n",
       "      <td>88</td>\n",
       "      <td>0.033245</td>\n",
       "      <td>444.222404</td>\n",
       "      <td>554.587784</td>\n",
       "      <td>0.766796</td>\n",
       "    </tr>\n",
       "    <tr>\n",
       "      <th>17</th>\n",
       "      <td>3</td>\n",
       "      <td>0.67659</td>\n",
       "      <td>88</td>\n",
       "      <td>0.055001</td>\n",
       "      <td>445.113754</td>\n",
       "      <td>554.231506</td>\n",
       "      <td>0.765917</td>\n",
       "    </tr>\n",
       "    <tr>\n",
       "      <th>6</th>\n",
       "      <td>3</td>\n",
       "      <td>0.67659</td>\n",
       "      <td>88</td>\n",
       "      <td>0.084171</td>\n",
       "      <td>445.708633</td>\n",
       "      <td>554.232941</td>\n",
       "      <td>0.765581</td>\n",
       "    </tr>\n",
       "    <tr>\n",
       "      <th>19</th>\n",
       "      <td>3</td>\n",
       "      <td>0.67659</td>\n",
       "      <td>88</td>\n",
       "      <td>0.058024</td>\n",
       "      <td>446.252106</td>\n",
       "      <td>555.709824</td>\n",
       "      <td>0.764581</td>\n",
       "    </tr>\n",
       "    <tr>\n",
       "      <th>2</th>\n",
       "      <td>3</td>\n",
       "      <td>0.67659</td>\n",
       "      <td>88</td>\n",
       "      <td>0.010238</td>\n",
       "      <td>462.977043</td>\n",
       "      <td>572.631470</td>\n",
       "      <td>0.744276</td>\n",
       "    </tr>\n",
       "    <tr>\n",
       "      <th>14</th>\n",
       "      <td>3</td>\n",
       "      <td>0.67659</td>\n",
       "      <td>88</td>\n",
       "      <td>0.003963</td>\n",
       "      <td>514.441925</td>\n",
       "      <td>630.274475</td>\n",
       "      <td>0.700719</td>\n",
       "    </tr>\n",
       "  </tbody>\n",
       "</table>\n",
       "</div>"
      ],
      "text/plain": [
       "    tree_depth  sample_size  mtry  learn_rate         mae        rmse  \\\n",
       "18           3      0.67659    88    0.095624  435.439247  542.410568   \n",
       "15           3      0.67659    88    0.069913  435.763741  544.581924   \n",
       "11           3      0.67659    88    0.086134  437.327087  548.161522   \n",
       "12           3      0.67659    88    0.044602  437.339401  546.516083   \n",
       "4            3      0.67659    88    0.036494  438.700615  550.042770   \n",
       "5            3      0.67659    88    0.027563  439.343414  549.754379   \n",
       "9            3      0.67659    88    0.016758  439.382416  550.493881   \n",
       "3            3      0.67659    88    0.077016  439.760765  548.642090   \n",
       "13           3      0.67659    88    0.071910  440.099831  549.166458   \n",
       "7            3      0.67659    88    0.015701  440.106346  551.610931   \n",
       "1            3      0.67659    88    0.047729  441.302605  551.096771   \n",
       "0            3      0.67659    88    0.022242  441.663612  552.944763   \n",
       "10           3      0.67659    88    0.064237  442.919357  553.059235   \n",
       "8            3      0.67659    88    0.093709  443.085243  554.896820   \n",
       "16           3      0.67659    88    0.033245  444.222404  554.587784   \n",
       "17           3      0.67659    88    0.055001  445.113754  554.231506   \n",
       "6            3      0.67659    88    0.084171  445.708633  554.232941   \n",
       "19           3      0.67659    88    0.058024  446.252106  555.709824   \n",
       "2            3      0.67659    88    0.010238  462.977043  572.631470   \n",
       "14           3      0.67659    88    0.003963  514.441925  630.274475   \n",
       "\n",
       "          r2  \n",
       "18  0.774539  \n",
       "15  0.774071  \n",
       "11  0.769257  \n",
       "12  0.772622  \n",
       "4   0.768856  \n",
       "5   0.769588  \n",
       "9   0.768382  \n",
       "3   0.771104  \n",
       "13  0.769850  \n",
       "7   0.767999  \n",
       "1   0.769624  \n",
       "0   0.768112  \n",
       "10  0.768235  \n",
       "8   0.764482  \n",
       "16  0.766796  \n",
       "17  0.765917  \n",
       "6   0.765581  \n",
       "19  0.764581  \n",
       "2   0.744276  \n",
       "14  0.700719  "
      ]
     },
     "execution_count": 262,
     "metadata": {},
     "output_type": "execute_result"
    }
   ],
   "source": [
    "rdf.sort_values('mae')"
   ]
  },
  {
   "cell_type": "code",
   "execution_count": 263,
   "metadata": {},
   "outputs": [],
   "source": [
    "rdf.to_csv('xgb{}.csv'.format(name))"
   ]
  },
  {
   "cell_type": "code",
   "execution_count": 264,
   "metadata": {},
   "outputs": [
    {
     "data": {
      "text/html": [
       "<div>\n",
       "<style scoped>\n",
       "    .dataframe tbody tr th:only-of-type {\n",
       "        vertical-align: middle;\n",
       "    }\n",
       "\n",
       "    .dataframe tbody tr th {\n",
       "        vertical-align: top;\n",
       "    }\n",
       "\n",
       "    .dataframe thead th {\n",
       "        text-align: right;\n",
       "    }\n",
       "</style>\n",
       "<table border=\"1\" class=\"dataframe\">\n",
       "  <thead>\n",
       "    <tr style=\"text-align: right;\">\n",
       "      <th></th>\n",
       "      <th>tree_depth</th>\n",
       "      <th>sample_size</th>\n",
       "      <th>mtry</th>\n",
       "      <th>learn_rate</th>\n",
       "      <th>mae</th>\n",
       "      <th>rmse</th>\n",
       "      <th>r2</th>\n",
       "    </tr>\n",
       "  </thead>\n",
       "  <tbody>\n",
       "    <tr>\n",
       "      <th>tree_depth</th>\n",
       "      <td>NaN</td>\n",
       "      <td>NaN</td>\n",
       "      <td>NaN</td>\n",
       "      <td>NaN</td>\n",
       "      <td>NaN</td>\n",
       "      <td>NaN</td>\n",
       "      <td>NaN</td>\n",
       "    </tr>\n",
       "    <tr>\n",
       "      <th>sample_size</th>\n",
       "      <td>NaN</td>\n",
       "      <td>1.000000e+00</td>\n",
       "      <td>NaN</td>\n",
       "      <td>2.445119e-17</td>\n",
       "      <td>1.353059e-15</td>\n",
       "      <td>0.000000</td>\n",
       "      <td>-1.409606e-15</td>\n",
       "    </tr>\n",
       "    <tr>\n",
       "      <th>mtry</th>\n",
       "      <td>NaN</td>\n",
       "      <td>NaN</td>\n",
       "      <td>NaN</td>\n",
       "      <td>NaN</td>\n",
       "      <td>NaN</td>\n",
       "      <td>NaN</td>\n",
       "      <td>NaN</td>\n",
       "    </tr>\n",
       "    <tr>\n",
       "      <th>learn_rate</th>\n",
       "      <td>NaN</td>\n",
       "      <td>2.445119e-17</td>\n",
       "      <td>NaN</td>\n",
       "      <td>1.000000e+00</td>\n",
       "      <td>-4.636637e-01</td>\n",
       "      <td>-0.486660</td>\n",
       "      <td>4.855678e-01</td>\n",
       "    </tr>\n",
       "    <tr>\n",
       "      <th>mae</th>\n",
       "      <td>NaN</td>\n",
       "      <td>1.353059e-15</td>\n",
       "      <td>NaN</td>\n",
       "      <td>-4.636637e-01</td>\n",
       "      <td>1.000000e+00</td>\n",
       "      <td>0.997625</td>\n",
       "      <td>-9.951073e-01</td>\n",
       "    </tr>\n",
       "    <tr>\n",
       "      <th>rmse</th>\n",
       "      <td>NaN</td>\n",
       "      <td>0.000000e+00</td>\n",
       "      <td>NaN</td>\n",
       "      <td>-4.866596e-01</td>\n",
       "      <td>9.976253e-01</td>\n",
       "      <td>1.000000</td>\n",
       "      <td>-9.955431e-01</td>\n",
       "    </tr>\n",
       "    <tr>\n",
       "      <th>r2</th>\n",
       "      <td>NaN</td>\n",
       "      <td>-1.409606e-15</td>\n",
       "      <td>NaN</td>\n",
       "      <td>4.855678e-01</td>\n",
       "      <td>-9.951073e-01</td>\n",
       "      <td>-0.995543</td>\n",
       "      <td>1.000000e+00</td>\n",
       "    </tr>\n",
       "  </tbody>\n",
       "</table>\n",
       "</div>"
      ],
      "text/plain": [
       "             tree_depth   sample_size  mtry    learn_rate           mae  \\\n",
       "tree_depth          NaN           NaN   NaN           NaN           NaN   \n",
       "sample_size         NaN  1.000000e+00   NaN  2.445119e-17  1.353059e-15   \n",
       "mtry                NaN           NaN   NaN           NaN           NaN   \n",
       "learn_rate          NaN  2.445119e-17   NaN  1.000000e+00 -4.636637e-01   \n",
       "mae                 NaN  1.353059e-15   NaN -4.636637e-01  1.000000e+00   \n",
       "rmse                NaN  0.000000e+00   NaN -4.866596e-01  9.976253e-01   \n",
       "r2                  NaN -1.409606e-15   NaN  4.855678e-01 -9.951073e-01   \n",
       "\n",
       "                 rmse            r2  \n",
       "tree_depth        NaN           NaN  \n",
       "sample_size  0.000000 -1.409606e-15  \n",
       "mtry              NaN           NaN  \n",
       "learn_rate  -0.486660  4.855678e-01  \n",
       "mae          0.997625 -9.951073e-01  \n",
       "rmse         1.000000 -9.955431e-01  \n",
       "r2          -0.995543  1.000000e+00  "
      ]
     },
     "execution_count": 264,
     "metadata": {},
     "output_type": "execute_result"
    }
   ],
   "source": [
    "rdf.corr()"
   ]
  },
  {
   "cell_type": "code",
   "execution_count": 265,
   "metadata": {},
   "outputs": [
    {
     "data": {
      "image/png": "[encoded data removed]",
      "text/plain": [
       "<Figure size 432x288 with 1 Axes>"
      ]
     },
     "metadata": {
      "needs_background": "light"
     },
     "output_type": "display_data"
    }
   ],
   "source": [
    "rdf.plot.scatter('tree_depth', 'mae');"
   ]
  },
  {
   "cell_type": "code",
   "execution_count": 266,
   "metadata": {},
   "outputs": [
    {
     "data": {
      "image/png": "[encoded data removed]",
      "text/plain": [
       "<Figure size 432x288 with 1 Axes>"
      ]
     },
     "metadata": {
      "needs_background": "light"
     },
     "output_type": "display_data"
    }
   ],
   "source": [
    "rdf.plot.scatter('sample_size', 'mae');"
   ]
  },
  {
   "cell_type": "code",
   "execution_count": 267,
   "metadata": {},
   "outputs": [
    {
     "data": {
      "image/png": "[encoded data removed]",
      "text/plain": [
       "<Figure size 432x288 with 1 Axes>"
      ]
     },
     "metadata": {
      "needs_background": "light"
     },
     "output_type": "display_data"
    }
   ],
   "source": [
    "rdf.plot.scatter('mtry', 'mae');"
   ]
  },
  {
   "cell_type": "code",
   "execution_count": 268,
   "metadata": {},
   "outputs": [
    {
     "data": {
      "image/png": "[encoded data removed]",
      "text/plain": [
       "<Figure size 432x288 with 1 Axes>"
      ]
     },
     "metadata": {
      "needs_background": "light"
     },
     "output_type": "display_data"
    }
   ],
   "source": [
    "rdf.plot.scatter('learn_rate', 'mae');"
   ]
  },
  {
   "cell_type": "code",
   "execution_count": 269,
   "metadata": {},
   "outputs": [
    {
     "data": {
      "text/html": [
       "<div>\n",
       "<style scoped>\n",
       "    .dataframe tbody tr th:only-of-type {\n",
       "        vertical-align: middle;\n",
       "    }\n",
       "\n",
       "    .dataframe tbody tr th {\n",
       "        vertical-align: top;\n",
       "    }\n",
       "\n",
       "    .dataframe thead th {\n",
       "        text-align: right;\n",
       "    }\n",
       "</style>\n",
       "<table border=\"1\" class=\"dataframe\">\n",
       "  <thead>\n",
       "    <tr style=\"text-align: right;\">\n",
       "      <th></th>\n",
       "      <th>tree_depth</th>\n",
       "      <th>sample_size</th>\n",
       "      <th>mtry</th>\n",
       "      <th>learn_rate</th>\n",
       "      <th>mae</th>\n",
       "      <th>rmse</th>\n",
       "      <th>r2</th>\n",
       "    </tr>\n",
       "  </thead>\n",
       "  <tbody>\n",
       "    <tr>\n",
       "      <th>18</th>\n",
       "      <td>3</td>\n",
       "      <td>0.67659</td>\n",
       "      <td>88</td>\n",
       "      <td>0.095624</td>\n",
       "      <td>435.439247</td>\n",
       "      <td>542.410568</td>\n",
       "      <td>0.774539</td>\n",
       "    </tr>\n",
       "    <tr>\n",
       "      <th>15</th>\n",
       "      <td>3</td>\n",
       "      <td>0.67659</td>\n",
       "      <td>88</td>\n",
       "      <td>0.069913</td>\n",
       "      <td>435.763741</td>\n",
       "      <td>544.581924</td>\n",
       "      <td>0.774071</td>\n",
       "    </tr>\n",
       "    <tr>\n",
       "      <th>11</th>\n",
       "      <td>3</td>\n",
       "      <td>0.67659</td>\n",
       "      <td>88</td>\n",
       "      <td>0.086134</td>\n",
       "      <td>437.327087</td>\n",
       "      <td>548.161522</td>\n",
       "      <td>0.769257</td>\n",
       "    </tr>\n",
       "    <tr>\n",
       "      <th>12</th>\n",
       "      <td>3</td>\n",
       "      <td>0.67659</td>\n",
       "      <td>88</td>\n",
       "      <td>0.044602</td>\n",
       "      <td>437.339401</td>\n",
       "      <td>546.516083</td>\n",
       "      <td>0.772622</td>\n",
       "    </tr>\n",
       "    <tr>\n",
       "      <th>4</th>\n",
       "      <td>3</td>\n",
       "      <td>0.67659</td>\n",
       "      <td>88</td>\n",
       "      <td>0.036494</td>\n",
       "      <td>438.700615</td>\n",
       "      <td>550.042770</td>\n",
       "      <td>0.768856</td>\n",
       "    </tr>\n",
       "    <tr>\n",
       "      <th>5</th>\n",
       "      <td>3</td>\n",
       "      <td>0.67659</td>\n",
       "      <td>88</td>\n",
       "      <td>0.027563</td>\n",
       "      <td>439.343414</td>\n",
       "      <td>549.754379</td>\n",
       "      <td>0.769588</td>\n",
       "    </tr>\n",
       "    <tr>\n",
       "      <th>9</th>\n",
       "      <td>3</td>\n",
       "      <td>0.67659</td>\n",
       "      <td>88</td>\n",
       "      <td>0.016758</td>\n",
       "      <td>439.382416</td>\n",
       "      <td>550.493881</td>\n",
       "      <td>0.768382</td>\n",
       "    </tr>\n",
       "    <tr>\n",
       "      <th>3</th>\n",
       "      <td>3</td>\n",
       "      <td>0.67659</td>\n",
       "      <td>88</td>\n",
       "      <td>0.077016</td>\n",
       "      <td>439.760765</td>\n",
       "      <td>548.642090</td>\n",
       "      <td>0.771104</td>\n",
       "    </tr>\n",
       "    <tr>\n",
       "      <th>13</th>\n",
       "      <td>3</td>\n",
       "      <td>0.67659</td>\n",
       "      <td>88</td>\n",
       "      <td>0.071910</td>\n",
       "      <td>440.099831</td>\n",
       "      <td>549.166458</td>\n",
       "      <td>0.769850</td>\n",
       "    </tr>\n",
       "    <tr>\n",
       "      <th>7</th>\n",
       "      <td>3</td>\n",
       "      <td>0.67659</td>\n",
       "      <td>88</td>\n",
       "      <td>0.015701</td>\n",
       "      <td>440.106346</td>\n",
       "      <td>551.610931</td>\n",
       "      <td>0.767999</td>\n",
       "    </tr>\n",
       "    <tr>\n",
       "      <th>1</th>\n",
       "      <td>3</td>\n",
       "      <td>0.67659</td>\n",
       "      <td>88</td>\n",
       "      <td>0.047729</td>\n",
       "      <td>441.302605</td>\n",
       "      <td>551.096771</td>\n",
       "      <td>0.769624</td>\n",
       "    </tr>\n",
       "    <tr>\n",
       "      <th>0</th>\n",
       "      <td>3</td>\n",
       "      <td>0.67659</td>\n",
       "      <td>88</td>\n",
       "      <td>0.022242</td>\n",
       "      <td>441.663612</td>\n",
       "      <td>552.944763</td>\n",
       "      <td>0.768112</td>\n",
       "    </tr>\n",
       "    <tr>\n",
       "      <th>10</th>\n",
       "      <td>3</td>\n",
       "      <td>0.67659</td>\n",
       "      <td>88</td>\n",
       "      <td>0.064237</td>\n",
       "      <td>442.919357</td>\n",
       "      <td>553.059235</td>\n",
       "      <td>0.768235</td>\n",
       "    </tr>\n",
       "    <tr>\n",
       "      <th>8</th>\n",
       "      <td>3</td>\n",
       "      <td>0.67659</td>\n",
       "      <td>88</td>\n",
       "      <td>0.093709</td>\n",
       "      <td>443.085243</td>\n",
       "      <td>554.896820</td>\n",
       "      <td>0.764482</td>\n",
       "    </tr>\n",
       "    <tr>\n",
       "      <th>16</th>\n",
       "      <td>3</td>\n",
       "      <td>0.67659</td>\n",
       "      <td>88</td>\n",
       "      <td>0.033245</td>\n",
       "      <td>444.222404</td>\n",
       "      <td>554.587784</td>\n",
       "      <td>0.766796</td>\n",
       "    </tr>\n",
       "    <tr>\n",
       "      <th>17</th>\n",
       "      <td>3</td>\n",
       "      <td>0.67659</td>\n",
       "      <td>88</td>\n",
       "      <td>0.055001</td>\n",
       "      <td>445.113754</td>\n",
       "      <td>554.231506</td>\n",
       "      <td>0.765917</td>\n",
       "    </tr>\n",
       "    <tr>\n",
       "      <th>6</th>\n",
       "      <td>3</td>\n",
       "      <td>0.67659</td>\n",
       "      <td>88</td>\n",
       "      <td>0.084171</td>\n",
       "      <td>445.708633</td>\n",
       "      <td>554.232941</td>\n",
       "      <td>0.765581</td>\n",
       "    </tr>\n",
       "    <tr>\n",
       "      <th>19</th>\n",
       "      <td>3</td>\n",
       "      <td>0.67659</td>\n",
       "      <td>88</td>\n",
       "      <td>0.058024</td>\n",
       "      <td>446.252106</td>\n",
       "      <td>555.709824</td>\n",
       "      <td>0.764581</td>\n",
       "    </tr>\n",
       "    <tr>\n",
       "      <th>2</th>\n",
       "      <td>3</td>\n",
       "      <td>0.67659</td>\n",
       "      <td>88</td>\n",
       "      <td>0.010238</td>\n",
       "      <td>462.977043</td>\n",
       "      <td>572.631470</td>\n",
       "      <td>0.744276</td>\n",
       "    </tr>\n",
       "    <tr>\n",
       "      <th>14</th>\n",
       "      <td>3</td>\n",
       "      <td>0.67659</td>\n",
       "      <td>88</td>\n",
       "      <td>0.003963</td>\n",
       "      <td>514.441925</td>\n",
       "      <td>630.274475</td>\n",
       "      <td>0.700719</td>\n",
       "    </tr>\n",
       "  </tbody>\n",
       "</table>\n",
       "</div>"
      ],
      "text/plain": [
       "    tree_depth  sample_size  mtry  learn_rate         mae        rmse  \\\n",
       "18           3      0.67659    88    0.095624  435.439247  542.410568   \n",
       "15           3      0.67659    88    0.069913  435.763741  544.581924   \n",
       "11           3      0.67659    88    0.086134  437.327087  548.161522   \n",
       "12           3      0.67659    88    0.044602  437.339401  546.516083   \n",
       "4            3      0.67659    88    0.036494  438.700615  550.042770   \n",
       "5            3      0.67659    88    0.027563  439.343414  549.754379   \n",
       "9            3      0.67659    88    0.016758  439.382416  550.493881   \n",
       "3            3      0.67659    88    0.077016  439.760765  548.642090   \n",
       "13           3      0.67659    88    0.071910  440.099831  549.166458   \n",
       "7            3      0.67659    88    0.015701  440.106346  551.610931   \n",
       "1            3      0.67659    88    0.047729  441.302605  551.096771   \n",
       "0            3      0.67659    88    0.022242  441.663612  552.944763   \n",
       "10           3      0.67659    88    0.064237  442.919357  553.059235   \n",
       "8            3      0.67659    88    0.093709  443.085243  554.896820   \n",
       "16           3      0.67659    88    0.033245  444.222404  554.587784   \n",
       "17           3      0.67659    88    0.055001  445.113754  554.231506   \n",
       "6            3      0.67659    88    0.084171  445.708633  554.232941   \n",
       "19           3      0.67659    88    0.058024  446.252106  555.709824   \n",
       "2            3      0.67659    88    0.010238  462.977043  572.631470   \n",
       "14           3      0.67659    88    0.003963  514.441925  630.274475   \n",
       "\n",
       "          r2  \n",
       "18  0.774539  \n",
       "15  0.774071  \n",
       "11  0.769257  \n",
       "12  0.772622  \n",
       "4   0.768856  \n",
       "5   0.769588  \n",
       "9   0.768382  \n",
       "3   0.771104  \n",
       "13  0.769850  \n",
       "7   0.767999  \n",
       "1   0.769624  \n",
       "0   0.768112  \n",
       "10  0.768235  \n",
       "8   0.764482  \n",
       "16  0.766796  \n",
       "17  0.765917  \n",
       "6   0.765581  \n",
       "19  0.764581  \n",
       "2   0.744276  \n",
       "14  0.700719  "
      ]
     },
     "execution_count": 269,
     "metadata": {},
     "output_type": "execute_result"
    }
   ],
   "source": [
    "rdf.sort_values('mae')"
   ]
  },
  {
   "cell_type": "code",
   "execution_count": null,
   "metadata": {},
   "outputs": [],
   "source": []
  }
 ],
 "metadata": {
  "kernelspec": {
   "display_name": "Python 3",
   "language": "python",
   "name": "python3"
  },
  "language_info": {
   "codemirror_mode": {
    "name": "ipython",
    "version": 3
   },
   "file_extension": ".py",
   "mimetype": "text/x-python",
   "name": "python",
   "nbconvert_exporter": "python",
   "pygments_lexer": "ipython3",
   "version": "3.7.7"
  }
 },
 "nbformat": 4,
 "nbformat_minor": 4
}
