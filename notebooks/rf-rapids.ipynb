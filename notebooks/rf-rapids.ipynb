{
 "cells": [
  {
   "cell_type": "markdown",
   "metadata": {},
   "source": [
    "# Random forest classification\n",
    "\n",
    "## RAPIDS single GPU\n",
    "\n",
    "<img src=\"https://rapids.ai/assets/images/RAPIDS-logo-purple.svg\" width=\"400\">"
   ]
  },
  {
   "cell_type": "code",
   "execution_count": 1,
   "metadata": {},
   "outputs": [],
   "source": [
    "import os"
   ]
  },
  {
   "cell_type": "markdown",
   "metadata": {},
   "source": [
    "# Load data and feature engineering\n",
    "\n",
    "Load a full month for this exercise. Note we are loading the data with RAPIDS now (`cudf.read_csv` vs. `pd.read_csv`)"
   ]
  },
  {
   "cell_type": "code",
   "execution_count": 2,
   "metadata": {},
   "outputs": [],
   "source": [
    "import cudf\n",
    "import s3fs\n",
    "\n",
    "s3 = s3fs.S3FileSystem(anon=True)\n",
    "\n",
    "data = cudf.read_csv(\n",
    "    s3.open( 's3://kjkasjdk2934872398ojljosudfsu8fuj23/data_rev8.csv', mode='rb')\n",
    ")"
   ]
  },
  {
   "cell_type": "code",
   "execution_count": 3,
   "metadata": {},
   "outputs": [
    {
     "name": "stdout",
     "output_type": "stream",
     "text": [
      "Num rows: 200000, Size: 305.688903 MB\n"
     ]
    }
   ],
   "source": [
    "print(f'Num rows: {len(data)}, Size: {data.memory_usage(deep=True).sum() / 1e6} MB')"
   ]
  },
  {
   "cell_type": "code",
   "execution_count": 4,
   "metadata": {},
   "outputs": [
    {
     "data": {
      "text/plain": [
       "(200000, 189)"
      ]
     },
     "execution_count": 4,
     "metadata": {},
     "output_type": "execute_result"
    }
   ],
   "source": [
    "data.shape"
   ]
  },
  {
   "cell_type": "code",
   "execution_count": 5,
   "metadata": {},
   "outputs": [],
   "source": [
    "data = data.drop(columns=['Unnamed: 0', 'Time'])\n",
    "data = data.astype('float32')"
   ]
  },
  {
   "cell_type": "code",
   "execution_count": 6,
   "metadata": {},
   "outputs": [],
   "source": [
    "features = list(data.columns[1:])\n",
    "target = data.columns[0]"
   ]
  },
  {
   "cell_type": "markdown",
   "metadata": {},
   "source": [
    "# Train model"
   ]
  },
  {
   "cell_type": "code",
   "execution_count": 7,
   "metadata": {},
   "outputs": [
    {
     "name": "stdout",
     "output_type": "stream",
     "text": [
      "Requirement already satisfied: pyDOE in /srv/conda/envs/saturn/lib/python3.7/site-packages (0.3.8)\n",
      "Requirement already satisfied: scipy in /srv/conda/envs/saturn/lib/python3.7/site-packages (from pyDOE) (1.5.2)\n",
      "Requirement already satisfied: numpy in /srv/conda/envs/saturn/lib/python3.7/site-packages (from pyDOE) (1.19.2)\n",
      "Note: you may need to restart the kernel to use updated packages.\n"
     ]
    }
   ],
   "source": [
    "%pip install pyDOE"
   ]
  },
  {
   "cell_type": "code",
   "execution_count": 60,
   "metadata": {},
   "outputs": [],
   "source": [
    "n_samples = 15\n",
    "\n",
    "min_rows_per_node = [2, 5]\n",
    "rows_sample = [0.03, 0.15]\n",
    "max_features = [70, 186]"
   ]
  },
  {
   "cell_type": "code",
   "execution_count": 61,
   "metadata": {},
   "outputs": [],
   "source": [
    "from pyDOE import lhs\n",
    "import numpy as np\n",
    "np.random.seed(42)\n",
    "\n",
    "lhd = lhs(3, samples=n_samples)"
   ]
  },
  {
   "cell_type": "code",
   "execution_count": 62,
   "metadata": {},
   "outputs": [
    {
     "data": {
      "text/plain": [
       "(200000, 187)"
      ]
     },
     "execution_count": 62,
     "metadata": {},
     "output_type": "execute_result"
    }
   ],
   "source": [
    "data.shape"
   ]
  },
  {
   "cell_type": "code",
   "execution_count": 63,
   "metadata": {},
   "outputs": [
    {
     "data": {
      "text/html": [
       "<div>\n",
       "<style scoped>\n",
       "    .dataframe tbody tr th:only-of-type {\n",
       "        vertical-align: middle;\n",
       "    }\n",
       "\n",
       "    .dataframe tbody tr th {\n",
       "        vertical-align: top;\n",
       "    }\n",
       "\n",
       "    .dataframe thead th {\n",
       "        text-align: right;\n",
       "    }\n",
       "</style>\n",
       "<table border=\"1\" class=\"dataframe\">\n",
       "  <thead>\n",
       "    <tr style=\"text-align: right;\">\n",
       "      <th></th>\n",
       "      <th>min_rows_per_node</th>\n",
       "      <th>rows_sample</th>\n",
       "      <th>max_features</th>\n",
       "    </tr>\n",
       "  </thead>\n",
       "  <tbody>\n",
       "    <tr>\n",
       "      <th>0</th>\n",
       "      <td>2</td>\n",
       "      <td>0.052929</td>\n",
       "      <td>113</td>\n",
       "    </tr>\n",
       "    <tr>\n",
       "      <th>1</th>\n",
       "      <td>2</td>\n",
       "      <td>0.037606</td>\n",
       "      <td>79</td>\n",
       "    </tr>\n",
       "    <tr>\n",
       "      <th>2</th>\n",
       "      <td>3</td>\n",
       "      <td>0.072434</td>\n",
       "      <td>140</td>\n",
       "    </tr>\n",
       "    <tr>\n",
       "      <th>3</th>\n",
       "      <td>4</td>\n",
       "      <td>0.149275</td>\n",
       "      <td>102</td>\n",
       "    </tr>\n",
       "    <tr>\n",
       "      <th>4</th>\n",
       "      <td>5</td>\n",
       "      <td>0.125725</td>\n",
       "      <td>90</td>\n",
       "    </tr>\n",
       "  </tbody>\n",
       "</table>\n",
       "</div>"
      ],
      "text/plain": [
       "   min_rows_per_node  rows_sample  max_features\n",
       "0                  2     0.052929           113\n",
       "1                  2     0.037606            79\n",
       "2                  3     0.072434           140\n",
       "3                  4     0.149275           102\n",
       "4                  5     0.125725            90"
      ]
     },
     "execution_count": 63,
     "metadata": {},
     "output_type": "execute_result"
    }
   ],
   "source": [
    "import pandas as pd\n",
    "\n",
    "def scale_param(x, limits):\n",
    "    range_ = limits[1]-limits[0]\n",
    "    res = x*range_+min(limits)\n",
    "    return res\n",
    "\n",
    "samples = pd.DataFrame({'min_rows_per_node': np.round(scale_param(lhd[:,0], min_rows_per_node),0).astype(int).tolist(),\n",
    "           'rows_sample': scale_param(lhd[:,1], rows_sample).tolist(),\n",
    "           'max_features': np.round(scale_param(lhd[:,2], max_features),0).astype(int).tolist()\n",
    "          })\n",
    "samples.head()"
   ]
  },
  {
   "cell_type": "code",
   "execution_count": 64,
   "metadata": {},
   "outputs": [],
   "source": [
    "from cuml.ensemble import RandomForestRegressor\n",
    "from cuml.metrics.regression import mean_absolute_error, mean_squared_error, r2_score\n",
    "from tqdm.auto import tqdm"
   ]
  },
  {
   "cell_type": "code",
   "execution_count": 65,
   "metadata": {},
   "outputs": [
    {
     "data": {
      "text/plain": [
       "2016"
      ]
     },
     "execution_count": 65,
     "metadata": {},
     "output_type": "execute_result"
    }
   ],
   "source": [
    "7*24*12"
   ]
  },
  {
   "cell_type": "code",
   "execution_count": 66,
   "metadata": {},
   "outputs": [
    {
     "data": {
      "application/vnd.jupyter.widget-view+json": {
       "model_id": "a276ff26ff1244858a6f4f15d9d5f48c",
       "version_major": 2,
       "version_minor": 0
      },
      "text/plain": [
       "HBox(children=(HTML(value=''), FloatProgress(value=0.0, max=4.0), HTML(value='')))"
      ]
     },
     "metadata": {},
     "output_type": "display_data"
    },
    {
     "name": "stdout",
     "output_type": "stream",
     "text": [
      "\n"
     ]
    }
   ],
   "source": [
    "fold_train = []\n",
    "fold_test = []\n",
    "\n",
    "n_folds = 4\n",
    "folds_cumul = True\n",
    "\n",
    "if n_folds == 4 and not folds_cumul:\n",
    "    for fold in tqdm(range(4), total=4):\n",
    "        fold_train_start = fold*40000\n",
    "        fold_train_end = (fold+1)*40000\n",
    "        fold_test_end = (fold+1)*50000\n",
    "\n",
    "        train_data_x = data[features].iloc[fold_train_start:fold_train_end]\n",
    "        train_data_y = data[target].iloc[fold_train_start:fold_train_end]\n",
    "\n",
    "        test_data_x = data[features].iloc[fold_train_end:fold_test_end]\n",
    "        test_data_y = data[target].iloc[fold_train_end:fold_test_end]\n",
    "\n",
    "        fold_train.append([train_data_x, train_data_y])\n",
    "        fold_test.append([test_data_x, test_data_y])\n",
    "        \n",
    "if n_folds == 4 and folds_cumul:\n",
    "    for fold in tqdm(range(4), total=4):\n",
    "        fold_train_start = 0\n",
    "        fold_train_end = 180000+(fold)*3000\n",
    "        fold_test_end = fold_train_end+2016\n",
    "\n",
    "        train_data_x = data[features].iloc[fold_train_start:fold_train_end]\n",
    "        train_data_y = data[target].iloc[fold_train_start:fold_train_end]\n",
    "\n",
    "        test_data_x = data[features].iloc[fold_train_end:fold_test_end]\n",
    "        test_data_y = data[target].iloc[fold_train_end:fold_test_end]\n",
    "\n",
    "        fold_train.append([train_data_x, train_data_y])\n",
    "        fold_test.append([test_data_x, test_data_y])"
   ]
  },
  {
   "cell_type": "code",
   "execution_count": null,
   "metadata": {},
   "outputs": [
    {
     "data": {
      "application/vnd.jupyter.widget-view+json": {
       "model_id": "4f70098cab524df09a00c63a34c9bf89",
       "version_major": 2,
       "version_minor": 0
      },
      "text/plain": [
       "HBox(children=(HTML(value=''), FloatProgress(value=0.0, max=15.0), HTML(value='')))"
      ]
     },
     "metadata": {},
     "output_type": "display_data"
    },
    {
     "data": {
      "application/vnd.jupyter.widget-view+json": {
       "model_id": "",
       "version_major": 2,
       "version_minor": 0
      },
      "text/plain": [
       "HBox(children=(HTML(value=''), FloatProgress(value=0.0, max=4.0), HTML(value='')))"
      ]
     },
     "metadata": {},
     "output_type": "display_data"
    },
    {
     "name": "stdout",
     "output_type": "stream",
     "text": [
      "min_rows_per_node:2 rows_sample:0.05292940916619948 max_features:113 mae:506.0132369995117\n"
     ]
    },
    {
     "data": {
      "application/vnd.jupyter.widget-view+json": {
       "model_id": "",
       "version_major": 2,
       "version_minor": 0
      },
      "text/plain": [
       "HBox(children=(HTML(value=''), FloatProgress(value=0.0, max=4.0), HTML(value='')))"
      ]
     },
     "metadata": {},
     "output_type": "display_data"
    },
    {
     "name": "stdout",
     "output_type": "stream",
     "text": [
      "min_rows_per_node:2 rows_sample:0.03760571445127933 max_features:79 mae:505.39683532714844\n"
     ]
    },
    {
     "data": {
      "application/vnd.jupyter.widget-view+json": {
       "model_id": "",
       "version_major": 2,
       "version_minor": 0
      },
      "text/plain": [
       "HBox(children=(HTML(value=''), FloatProgress(value=0.0, max=4.0), HTML(value='')))"
      ]
     },
     "metadata": {},
     "output_type": "display_data"
    },
    {
     "name": "stdout",
     "output_type": "stream",
     "text": [
      "min_rows_per_node:3 rows_sample:0.07243393794367631 max_features:140 mae:508.29700469970703\n"
     ]
    },
    {
     "data": {
      "application/vnd.jupyter.widget-view+json": {
       "model_id": "",
       "version_major": 2,
       "version_minor": 0
      },
      "text/plain": [
       "HBox(children=(HTML(value=''), FloatProgress(value=0.0, max=4.0), HTML(value='')))"
      ]
     },
     "metadata": {},
     "output_type": "display_data"
    },
    {
     "name": "stdout",
     "output_type": "stream",
     "text": [
      "min_rows_per_node:4 rows_sample:0.14927456321663024 max_features:102 mae:515.4037399291992\n"
     ]
    },
    {
     "data": {
      "application/vnd.jupyter.widget-view+json": {
       "model_id": "",
       "version_major": 2,
       "version_minor": 0
      },
      "text/plain": [
       "HBox(children=(HTML(value=''), FloatProgress(value=0.0, max=4.0), HTML(value='')))"
      ]
     },
     "metadata": {},
     "output_type": "display_data"
    },
    {
     "name": "stdout",
     "output_type": "stream",
     "text": [
      "min_rows_per_node:5 rows_sample:0.12572505626459646 max_features:90 mae:512.9100570678711\n"
     ]
    },
    {
     "data": {
      "application/vnd.jupyter.widget-view+json": {
       "model_id": "",
       "version_major": 2,
       "version_minor": 0
      },
      "text/plain": [
       "HBox(children=(HTML(value=''), FloatProgress(value=0.0, max=4.0), HTML(value='')))"
      ]
     },
     "metadata": {},
     "output_type": "display_data"
    },
    {
     "name": "stdout",
     "output_type": "stream",
     "text": [
      "min_rows_per_node:4 rows_sample:0.039248149123539494 max_features:101 mae:504.1115951538086\n"
     ]
    },
    {
     "data": {
      "application/vnd.jupyter.widget-view+json": {
       "model_id": "",
       "version_major": 2,
       "version_minor": 0
      },
      "text/plain": [
       "HBox(children=(HTML(value=''), FloatProgress(value=0.0, max=4.0), HTML(value='')))"
      ]
     },
     "metadata": {},
     "output_type": "display_data"
    },
    {
     "name": "stdout",
     "output_type": "stream",
     "text": [
      "min_rows_per_node:3 rows_sample:0.11136419298949833 max_features:127 mae:510.44600677490234\n"
     ]
    },
    {
     "data": {
      "application/vnd.jupyter.widget-view+json": {
       "model_id": "",
       "version_major": 2,
       "version_minor": 0
      },
      "text/plain": [
       "HBox(children=(HTML(value=''), FloatProgress(value=0.0, max=4.0), HTML(value='')))"
      ]
     },
     "metadata": {},
     "output_type": "display_data"
    },
    {
     "name": "stdout",
     "output_type": "stream",
     "text": [
      "min_rows_per_node:4 rows_sample:0.10673931655089633 max_features:148 mae:510.07994842529297\n"
     ]
    },
    {
     "data": {
      "application/vnd.jupyter.widget-view+json": {
       "model_id": "",
       "version_major": 2,
       "version_minor": 0
      },
      "text/plain": [
       "HBox(children=(HTML(value=''), FloatProgress(value=0.0, max=4.0), HTML(value='')))"
      ]
     },
     "metadata": {},
     "output_type": "display_data"
    },
    {
     "name": "stdout",
     "output_type": "stream",
     "text": [
      "min_rows_per_node:5 rows_sample:0.06369871288542621 max_features:121 mae:505.4130630493164\n"
     ]
    },
    {
     "data": {
      "application/vnd.jupyter.widget-view+json": {
       "model_id": "",
       "version_major": 2,
       "version_minor": 0
      },
      "text/plain": [
       "HBox(children=(HTML(value=''), FloatProgress(value=0.0, max=4.0), HTML(value='')))"
      ]
     },
     "metadata": {},
     "output_type": "display_data"
    },
    {
     "name": "stdout",
     "output_type": "stream",
     "text": [
      "min_rows_per_node:4 rows_sample:0.12678137691205107 max_features:168 mae:513.9752197265625\n"
     ]
    },
    {
     "data": {
      "application/vnd.jupyter.widget-view+json": {
       "model_id": "",
       "version_major": 2,
       "version_minor": 0
      },
      "text/plain": [
       "HBox(children=(HTML(value=''), FloatProgress(value=0.0, max=4.0), HTML(value='')))"
      ]
     },
     "metadata": {},
     "output_type": "display_data"
    },
    {
     "name": "stdout",
     "output_type": "stream",
     "text": [
      "min_rows_per_node:4 rows_sample:0.1002814076911441 max_features:76 mae:512.1823043823242\n"
     ]
    },
    {
     "data": {
      "application/vnd.jupyter.widget-view+json": {
       "model_id": "",
       "version_major": 2,
       "version_minor": 0
      },
      "text/plain": [
       "HBox(children=(HTML(value=''), FloatProgress(value=0.0, max=4.0), HTML(value='')))"
      ]
     },
     "metadata": {},
     "output_type": "display_data"
    },
    {
     "name": "stdout",
     "output_type": "stream",
     "text": [
      "min_rows_per_node:3 rows_sample:0.08032983312158434 max_features:133 mae:510.12745666503906\n"
     ]
    },
    {
     "data": {
      "application/vnd.jupyter.widget-view+json": {
       "model_id": "cd0c137716c04c00bb677420418562a9",
       "version_major": 2,
       "version_minor": 0
      },
      "text/plain": [
       "HBox(children=(HTML(value=''), FloatProgress(value=0.0, max=4.0), HTML(value='')))"
      ]
     },
     "metadata": {},
     "output_type": "display_data"
    }
   ],
   "source": [
    "res = []\n",
    "\n",
    "for sample in tqdm(list(samples.index), total=samples.shape[0]):\n",
    "    this_res = {}\n",
    "    this_res['min_rows_per_node'] = samples.loc[sample, 'min_rows_per_node']\n",
    "    this_res['rows_sample'] = samples.loc[sample, 'rows_sample']\n",
    "    this_res['max_features'] = samples.loc[sample, 'max_features']\n",
    "    this_res['res'] = {'folds': []}\n",
    "    for fold in tqdm(range(4), total=4, leave=False):\n",
    "        this_fold = {}\n",
    "\n",
    "        rfr = RandomForestRegressor(n_estimators=1000, \n",
    "                                    min_rows_per_node = samples.loc[sample, 'min_rows_per_node'],\n",
    "                                    rows_sample = samples.loc[sample, 'rows_sample'],\n",
    "                                    max_features = int(samples.loc[sample, 'max_features']))\n",
    "        _ = rfr.fit(*fold_train[fold])\n",
    "\n",
    "        preds = rfr.predict(fold_test[fold][0])\n",
    "        orig = fold_test[fold][1]\n",
    "        \n",
    "        this_fold['mae'] = float(mean_absolute_error(orig, preds))\n",
    "        this_fold['rmse'] = float(mean_squared_error(orig, preds, squared=False))\n",
    "        this_fold['r2'] = r2_score(orig, preds)\n",
    "        this_res['res']['folds'].append(this_fold)\n",
    "    this_res['res']['mae'] = np.mean([x['mae'] for x in this_res['res']['folds']])\n",
    "    this_res['res']['rmse'] = np.mean([x['rmse'] for x in this_res['res']['folds']])\n",
    "    this_res['res']['r2'] = np.mean([x['r2'] for x in this_res['res']['folds']])\n",
    "    print(\"min_rows_per_node:{} rows_sample:{} max_features:{} mae:{}\".format(\n",
    "    this_res['min_rows_per_node'],this_res['rows_sample'],this_res['max_features'],this_res['res']['mae']))\n",
    "    res.append(this_res)"
   ]
  },
  {
   "cell_type": "code",
   "execution_count": null,
   "metadata": {},
   "outputs": [],
   "source": [
    "rdf = pd.DataFrame({'min_rows_per_node': [r['min_rows_per_node'] for r in res],\n",
    " 'rows_sample': [r['rows_sample'] for r in res],\n",
    " 'max_features': [r['max_features'] for r in res],\n",
    " 'mae': [r['res']['mae'] for r in res],\n",
    "                    'rmse': [r['res']['rmse'] for r in res],\n",
    "                   'r2': [r['res']['r2'] for r in res]})"
   ]
  },
  {
   "cell_type": "code",
   "execution_count": null,
   "metadata": {},
   "outputs": [],
   "source": [
    "rdf.sort_values('mae')"
   ]
  },
  {
   "cell_type": "code",
   "execution_count": null,
   "metadata": {},
   "outputs": [],
   "source": [
    "rdf.to_csv('run5_15_cv.csv')"
   ]
  },
  {
   "cell_type": "code",
   "execution_count": null,
   "metadata": {},
   "outputs": [],
   "source": [
    "rdf.corr()"
   ]
  },
  {
   "cell_type": "code",
   "execution_count": null,
   "metadata": {},
   "outputs": [],
   "source": [
    "rdf.plot.scatter('min_rows_per_node', 'mae');"
   ]
  },
  {
   "cell_type": "code",
   "execution_count": null,
   "metadata": {},
   "outputs": [],
   "source": [
    "rdf.plot.scatter('rows_sample', 'mae');"
   ]
  },
  {
   "cell_type": "code",
   "execution_count": null,
   "metadata": {},
   "outputs": [],
   "source": [
    "rdf.plot.scatter('max_features', 'mae');"
   ]
  },
  {
   "cell_type": "code",
   "execution_count": null,
   "metadata": {},
   "outputs": [],
   "source": []
  }
 ],
 "metadata": {
  "kernelspec": {
   "display_name": "Python 3",
   "language": "python",
   "name": "python3"
  },
  "language_info": {
   "codemirror_mode": {
    "name": "ipython",
    "version": 3
   },
   "file_extension": ".py",
   "mimetype": "text/x-python",
   "name": "python",
   "nbconvert_exporter": "python",
   "pygments_lexer": "ipython3",
   "version": "3.7.7"
  }
 },
 "nbformat": 4,
 "nbformat_minor": 4
}
